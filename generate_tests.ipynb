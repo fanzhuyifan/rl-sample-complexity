{
 "cells": [
  {
   "cell_type": "code",
   "execution_count": 131,
   "metadata": {},
   "outputs": [
    {
     "name": "stdout",
     "output_type": "stream",
     "text": [
      "The autoreload extension is already loaded. To reload it, use:\n",
      "  %reload_ext autoreload\n"
     ]
    }
   ],
   "source": [
    "%load_ext autoreload\n",
    "%autoreload 2"
   ]
  },
  {
   "cell_type": "code",
   "execution_count": 132,
   "metadata": {},
   "outputs": [],
   "source": [
    "import numpy as np\n",
    "import pandas as pd"
   ]
  },
  {
   "cell_type": "code",
   "execution_count": 133,
   "metadata": {},
   "outputs": [],
   "source": [
    "filename=\"../analysis_plateau0.95.xlsx\"\n"
   ]
  },
  {
   "cell_type": "code",
   "execution_count": 134,
   "metadata": {},
   "outputs": [],
   "source": [
    "current = pd.read_excel(filename)"
   ]
  },
  {
   "cell_type": "code",
   "execution_count": 135,
   "metadata": {},
   "outputs": [],
   "source": [
    "epsilon = 0.05"
   ]
  },
  {
   "cell_type": "code",
   "execution_count": 136,
   "metadata": {},
   "outputs": [],
   "source": [
    "def get_T_e_max(data, epsilon):\n",
    "    return data.where(data['epsilon'] < epsilon).groupby(['d', 'M', 'noise']).agg(\n",
    "        T_e_max = pd.NamedAgg(column=\"T\", aggfunc=\"min\"),\n",
    "    ).reset_index()\n",
    "def get_T_e_min(data, epsilon):\n",
    "    return data.where(data['epsilon'] > epsilon).groupby(['d', 'M', 'noise']).agg(\n",
    "        T_e_min = pd.NamedAgg(column=\"T\", aggfunc=\"max\"),\n",
    "    ).reset_index()"
   ]
  },
  {
   "cell_type": "code",
   "execution_count": 137,
   "metadata": {},
   "outputs": [
    {
     "data": {
      "text/html": [
       "<div>\n",
       "<style scoped>\n",
       "    .dataframe tbody tr th:only-of-type {\n",
       "        vertical-align: middle;\n",
       "    }\n",
       "\n",
       "    .dataframe tbody tr th {\n",
       "        vertical-align: top;\n",
       "    }\n",
       "\n",
       "    .dataframe thead th {\n",
       "        text-align: right;\n",
       "    }\n",
       "</style>\n",
       "<table border=\"1\" class=\"dataframe\">\n",
       "  <thead>\n",
       "    <tr style=\"text-align: right;\">\n",
       "      <th></th>\n",
       "      <th>d</th>\n",
       "      <th>M</th>\n",
       "      <th>noise</th>\n",
       "    </tr>\n",
       "  </thead>\n",
       "  <tbody>\n",
       "    <tr>\n",
       "      <th>0</th>\n",
       "      <td>1</td>\n",
       "      <td>1</td>\n",
       "      <td>0.1</td>\n",
       "    </tr>\n",
       "    <tr>\n",
       "      <th>1</th>\n",
       "      <td>1</td>\n",
       "      <td>1</td>\n",
       "      <td>0.2</td>\n",
       "    </tr>\n",
       "    <tr>\n",
       "      <th>2</th>\n",
       "      <td>1</td>\n",
       "      <td>2</td>\n",
       "      <td>0.1</td>\n",
       "    </tr>\n",
       "    <tr>\n",
       "      <th>3</th>\n",
       "      <td>1</td>\n",
       "      <td>2</td>\n",
       "      <td>0.2</td>\n",
       "    </tr>\n",
       "    <tr>\n",
       "      <th>4</th>\n",
       "      <td>1</td>\n",
       "      <td>4</td>\n",
       "      <td>0.1</td>\n",
       "    </tr>\n",
       "    <tr>\n",
       "      <th>...</th>\n",
       "      <td>...</td>\n",
       "      <td>...</td>\n",
       "      <td>...</td>\n",
       "    </tr>\n",
       "    <tr>\n",
       "      <th>93</th>\n",
       "      <td>64</td>\n",
       "      <td>16</td>\n",
       "      <td>0.2</td>\n",
       "    </tr>\n",
       "    <tr>\n",
       "      <th>94</th>\n",
       "      <td>64</td>\n",
       "      <td>32</td>\n",
       "      <td>0.1</td>\n",
       "    </tr>\n",
       "    <tr>\n",
       "      <th>95</th>\n",
       "      <td>64</td>\n",
       "      <td>32</td>\n",
       "      <td>0.2</td>\n",
       "    </tr>\n",
       "    <tr>\n",
       "      <th>96</th>\n",
       "      <td>64</td>\n",
       "      <td>64</td>\n",
       "      <td>0.1</td>\n",
       "    </tr>\n",
       "    <tr>\n",
       "      <th>97</th>\n",
       "      <td>64</td>\n",
       "      <td>64</td>\n",
       "      <td>0.2</td>\n",
       "    </tr>\n",
       "  </tbody>\n",
       "</table>\n",
       "<p>98 rows × 3 columns</p>\n",
       "</div>"
      ],
      "text/plain": [
       "     d   M  noise\n",
       "0    1   1    0.1\n",
       "1    1   1    0.2\n",
       "2    1   2    0.1\n",
       "3    1   2    0.2\n",
       "4    1   4    0.1\n",
       "..  ..  ..    ...\n",
       "93  64  16    0.2\n",
       "94  64  32    0.1\n",
       "95  64  32    0.2\n",
       "96  64  64    0.1\n",
       "97  64  64    0.2\n",
       "\n",
       "[98 rows x 3 columns]"
      ]
     },
     "execution_count": 137,
     "metadata": {},
     "output_type": "execute_result"
    }
   ],
   "source": [
    "maxLog2 = 6\n",
    "candidates = pd.DataFrame(data={\n",
    "    'd':[2 ** i for i in range(maxLog2 + 1)]\n",
    "}).merge(\n",
    "    pd.DataFrame(data={\n",
    "        'M':[2 ** i for i in range(maxLog2 + 1)]\n",
    "    }),\n",
    "    how='cross',\n",
    ").merge(\n",
    "    pd.DataFrame(data={\n",
    "        'noise':[0.1, 0.2]\n",
    "    }),\n",
    "    how='cross',\n",
    ")\n",
    "\n",
    "candidates"
   ]
  },
  {
   "cell_type": "code",
   "execution_count": 138,
   "metadata": {},
   "outputs": [],
   "source": [
    "def get_next_tests(data, epsilon, candidates):\n",
    "    data_min_max = get_T_e_max(data, epsilon).merge(\n",
    "        get_T_e_min(data, epsilon),\n",
    "        on=['d', 'M', 'noise'],\n",
    "        how='outer',\n",
    "    )\n",
    "\n",
    "    temp1 = data_min_max[['d', 'M', 'noise', 'T_e_max']].dropna()\n",
    "    temp1['T'] = (temp1['T_e_max'] / 2).astype('int')\n",
    "    temp1 = temp1.drop(['T_e_max'], axis=1)\n",
    "\n",
    "    temp2 = data_min_max[['d', 'M', 'noise', 'T_e_min']].dropna()\n",
    "    temp2['T'] = (temp2['T_e_min'] * 2).astype('int')\n",
    "    temp2 = temp2.drop(['T_e_min'], axis=1)\n",
    "\n",
    "    temp3 = data_min_max.dropna()[['d', 'M', 'noise', 'T_e_max']]\n",
    "    temp3['T'] = (temp3['T_e_max']).astype('int')\n",
    "    temp3 = temp3.drop(['T_e_max'], axis=1)\n",
    "    temp3['d'] *= 2\n",
    "\n",
    "    temp4 = data_min_max.dropna()[['d', 'M', 'noise', 'T_e_max']]\n",
    "    temp4['T'] = (temp4['T_e_max']).astype('int')\n",
    "    temp4 = temp4.drop(['T_e_max'], axis=1)\n",
    "    temp4['M'] *= 2\n",
    "\n",
    "    explore = pd.concat([temp3, temp4]).groupby(['d', 'M', 'noise']).agg(\n",
    "        T = pd.NamedAgg(column=\"T\", aggfunc=\"max\"),\n",
    "    ).reset_index()\n",
    "    candidates_with_data = data_min_max[ \n",
    "        (~data_min_max['T_e_max'].isna())\n",
    "        | \n",
    "        (~data_min_max['T_e_min'].isna())\n",
    "    ][['M', 'd', 'noise']]\n",
    "    candidates_without_data = pd.concat([\n",
    "        candidates_with_data, candidates_with_data, candidates\n",
    "    ]).drop_duplicates(keep=False)\n",
    "    explore = candidates_without_data.merge(\n",
    "        explore, \n",
    "        left_on=['M', 'd', 'noise'],\n",
    "        right_on=['M', 'd', 'noise'],\n",
    "        how='inner',\n",
    "    )\n",
    "    \n",
    "    result = pd.concat([temp1, temp2, explore]).drop_duplicates()\n",
    "\n",
    "    temp = data[['d', \"M\", 'noise', 'T']].drop_duplicates()\n",
    "    result = pd.concat([temp, temp, result]).drop_duplicates(\n",
    "        keep=False\n",
    "    ).sort_values([ \n",
    "        'noise', 'd', 'M', 'T'\n",
    "    ])\n",
    "\n",
    "    result = candidates.merge( \n",
    "        result, \n",
    "        left_on=['d', 'M', 'noise'],\n",
    "        right_on=['d', 'M', 'noise'],\n",
    "        how='left',\n",
    "    ).dropna().drop_duplicates()\n",
    "    return result"
   ]
  },
  {
   "cell_type": "code",
   "execution_count": 139,
   "metadata": {},
   "outputs": [],
   "source": [
    "next_tests = get_next_tests( \n",
    "    current, \n",
    "    0.05, \n",
    "    candidates\n",
    ")\n",
    "next_tests['T'] = next_tests['T'].astype('int')\n",
    "next_tests['patience'] = 24\n",
    "next_tests['batch-size'] = 64\n",
    "next_tests['epochs'] = 1500\n",
    "next_tests['weight-decay'] = 0\n",
    "next_tests['lr'] = 0.000\n",
    "next_tests['dropout'] = 0\n",
    "next_tests = next_tests.drop_duplicates()\n",
    "next_tests['count'] = 1\n",
    "next_tests['comment'] = 'reduce-lr'\n",
    "next_tests['reduce-lr'] = 'T'"
   ]
  },
  {
   "cell_type": "code",
   "execution_count": 140,
   "metadata": {},
   "outputs": [],
   "source": [
    "# next_tests"
   ]
  },
  {
   "cell_type": "code",
   "execution_count": 141,
   "metadata": {},
   "outputs": [],
   "source": [
    "next_tests.sort_values('T').to_csv('config.tsv', sep='\\t', index=False)"
   ]
  },
  {
   "cell_type": "code",
   "execution_count": null,
   "metadata": {},
   "outputs": [],
   "source": []
  }
 ],
 "metadata": {
  "interpreter": {
   "hash": "381d4131ad07596e9720955678587090e535b4a843f544edaede8100ef2767e0"
  },
  "kernelspec": {
   "display_name": "Python 3.9.7 64-bit ('rl': conda)",
   "language": "python",
   "name": "python3"
  },
  "language_info": {
   "codemirror_mode": {
    "name": "ipython",
    "version": 3
   },
   "file_extension": ".py",
   "mimetype": "text/x-python",
   "name": "python",
   "nbconvert_exporter": "python",
   "pygments_lexer": "ipython3",
   "version": "3.9.7"
  },
  "orig_nbformat": 4
 },
 "nbformat": 4,
 "nbformat_minor": 2
}
