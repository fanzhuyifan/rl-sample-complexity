{
 "cells": [
  {
   "cell_type": "code",
   "execution_count": 1,
   "metadata": {},
   "outputs": [],
   "source": [
    "%load_ext autoreload\n",
    "%autoreload 2"
   ]
  },
  {
   "cell_type": "code",
   "execution_count": 2,
   "metadata": {},
   "outputs": [],
   "source": [
    "import numpy as np\n",
    "import pandas as pd\n",
    "import torch\n",
    "import torch.nn as nn\n",
    "import torch.nn.functional as F\n",
    "from torch.utils.data import TensorDataset, DataLoader\n",
    "import matplotlib\n",
    "import matplotlib.pyplot as plt\n",
    "\n",
    "import generate as generate\n",
    "from single_layer import *\n",
    "from smart_train import *\n",
    "from find_lr import *"
   ]
  },
  {
   "cell_type": "code",
   "execution_count": 3,
   "metadata": {},
   "outputs": [],
   "source": [
    "# Constants\n",
    "num = 1\n",
    "N_test = 102400\n",
    "noise = 0.2"
   ]
  },
  {
   "cell_type": "code",
   "execution_count": 56,
   "metadata": {},
   "outputs": [
    {
     "name": "stdout",
     "output_type": "stream",
     "text": [
      "(1, 16, 2) (1, 16)\n",
      "0.16582859482130707\n",
      "0.1856313499425612\n"
     ]
    }
   ],
   "source": [
    "T = 2 ** 4\n",
    "M = 1\n",
    "d = 2\n",
    "(thetan, an, bn) = generate.generate_single_layer_v2(M, d, num)\n",
    "\n",
    "(X, Y_noiseless) = generate.generate_single_data_v2(T, an, bn, thetan)\n",
    "Y = generate.add_noise(Y_noiseless, noise)\n",
    "input = X[0]\n",
    "print(X.shape, Y.shape)\n",
    "print(np.mean(Y))\n",
    "print(np.std(Y))"
   ]
  },
  {
   "cell_type": "code",
   "execution_count": 57,
   "metadata": {},
   "outputs": [],
   "source": [
    "val_ratio = 0.2\n",
    "hidden_dim = [2, 2, 2]\n",
    "dropout = 0\n",
    "batchNorm = False\n",
    "act = nn.LeakyReLU()\n",
    "batch_size = 64\n",
    "x = X[0]\n",
    "y = Y[0]\n",
    "lr = 0.002\n",
    "weight_decay = 0"
   ]
  },
  {
   "cell_type": "code",
   "execution_count": 58,
   "metadata": {},
   "outputs": [],
   "source": [
    "(T, d) = x.shape\n",
    "val_size = int(T * val_ratio)\n",
    "model = MultiLayer(d, hidden_dim, dropout=dropout,\n",
    "                    act=act, batchNorm=batchNorm)\n",
    "training_loader = get_data_loader(x[:-val_size], y[:-val_size], batch_size)\n",
    "validation_loader = get_data_loader(\n",
    "x[-val_size:], y[-val_size:], batch_size)\n",
    "loss_fn = torch.nn.MSELoss(reduction='mean')\n",
    "lr=1e-3\n",
    "optimizer = torch.optim.Adam(\n",
    "    model.parameters(), lr=lr, weight_decay=weight_decay)"
   ]
  },
  {
   "cell_type": "code",
   "execution_count": 59,
   "metadata": {},
   "outputs": [
    {
     "data": {
      "image/png": "[encoded data removed]",
      "text/plain": [
       "<Figure size 432x288 with 1 Axes>"
      ]
     },
     "metadata": {
      "needs_background": "light"
     },
     "output_type": "display_data"
    },
    {
     "data": {
      "text/plain": [
       "0.03702441025907115"
      ]
     },
     "execution_count": 59,
     "metadata": {},
     "output_type": "execute_result"
    }
   ],
   "source": [
    "find_lr( \n",
    "    model, \n",
    "    optimizer, \n",
    "    loss_fn,\n",
    "    training_loader, \n",
    "    plot=True, \n",
    "    min_lr=1e-8,\n",
    "    max_lr=10, \n",
    "    # method=[steep, min_loss, valley],\n",
    ")"
   ]
  },
  {
   "cell_type": "code",
   "execution_count": 35,
   "metadata": {},
   "outputs": [
    {
     "name": "stdout",
     "output_type": "stream",
     "text": [
      "(1, 1048576, 64) (1, 1048576)\n",
      "-0.03152361423540539\n",
      "1.032154640808651\n"
     ]
    }
   ],
   "source": [
    "T = 2 ** 20\n",
    "M = 64\n",
    "d = 64\n",
    "(thetan, an, bn) = generate.generate_single_layer_v2(M, d, num)\n",
    "\n",
    "(X, Y_noiseless) = generate.generate_single_data_v2(T, an, bn, thetan)\n",
    "Y = generate.add_noise(Y_noiseless, noise)\n",
    "input = X[0]\n",
    "print(X.shape, Y.shape)\n",
    "print(np.mean(Y))\n",
    "print(np.std(Y))"
   ]
  },
  {
   "cell_type": "code",
   "execution_count": 42,
   "metadata": {},
   "outputs": [],
   "source": [
    "val_ratio = 0.2\n",
    "hidden_dim = [10, 10, 10]\n",
    "dropout = 0\n",
    "batchNorm = False\n",
    "act = nn.LeakyReLU()\n",
    "batch_size = 64\n",
    "x = X[0]\n",
    "y = Y[0]\n",
    "lr = 0.002\n",
    "weight_decay = 0"
   ]
  },
  {
   "cell_type": "code",
   "execution_count": 43,
   "metadata": {},
   "outputs": [],
   "source": [
    "(T, d) = x.shape\n",
    "val_size = int(T * val_ratio)\n",
    "model = MultiLayer(d, hidden_dim, dropout=dropout,\n",
    "                    act=act, batchNorm=batchNorm)\n",
    "training_loader = get_data_loader(x[:-val_size], y[:-val_size], batch_size)\n",
    "validation_loader = get_data_loader(\n",
    "x[-val_size:], y[-val_size:], batch_size)\n",
    "loss_fn = torch.nn.MSELoss(reduction='mean')\n",
    "lr=1e-3\n",
    "optimizer = torch.optim.Adam(\n",
    "    model.parameters(), lr=lr, weight_decay=weight_decay)"
   ]
  },
  {
   "cell_type": "code",
   "execution_count": 44,
   "metadata": {},
   "outputs": [
    {
     "data": {
      "image/png": "[encoded data removed]",
      "text/plain": [
       "<Figure size 432x288 with 1 Axes>"
      ]
     },
     "metadata": {
      "needs_background": "light"
     },
     "output_type": "display_data"
    },
    {
     "data": {
      "text/plain": [
       "[0.0015333755680552834, 0.054578516526953204, 0.013154225306754173]"
      ]
     },
     "execution_count": 44,
     "metadata": {},
     "output_type": "execute_result"
    }
   ],
   "source": [
    "find_lr( \n",
    "    model, \n",
    "    optimizer, \n",
    "    loss_fn,\n",
    "    training_loader, \n",
    "    plot=True, \n",
    "    min_lr=1e-8,\n",
    "    max_lr=10, \n",
    "    method=[steep, min_loss, valley],\n",
    ")"
   ]
  },
  {
   "cell_type": "code",
   "execution_count": 26,
   "metadata": {},
   "outputs": [],
   "source": [
    "from fastai.data.core import DataLoaders\n",
    "from fastai.learner import Learner\n",
    "from fastai.optimizer import OptimWrapper\n",
    "from fastai.callback.all import LRFinder, minimum, slide, valley, steep\n",
    "\n",
    "(T, d) = x.shape\n",
    "val_size = int(T * val_ratio)\n",
    "model = MultiLayer(d, hidden_dim, dropout=dropout,\n",
    "                    act=act, batchNorm=batchNorm)\n",
    "training_loader = get_data_loader(x[:-val_size], y[:-val_size], batch_size)\n",
    "validation_loader = get_data_loader(\n",
    "x[-val_size:], y[-val_size:], batch_size)\n",
    "loss_fn = torch.nn.MSELoss(reduction='mean')\n",
    "def optimizer(params, **kwargs): \n",
    "    return OptimWrapper(params, torch.optim.SGD, lr=lr, weight_decay=weight_decay)\n",
    "dls = DataLoaders(training_loader, validation_loader)"
   ]
  },
  {
   "cell_type": "code",
   "execution_count": 27,
   "metadata": {},
   "outputs": [],
   "source": [
    "learn = Learner(\n",
    "    dls, \n",
    "    model, \n",
    "    loss_func=loss_fn, \n",
    "    opt_func=optimizer,\n",
    "    cbs=[LRFinder()]\n",
    ")"
   ]
  },
  {
   "cell_type": "code",
   "execution_count": 36,
   "metadata": {},
   "outputs": [
    {
     "ename": "ValueError",
     "evalue": "Shape of array too small to calculate a numerical gradient, at least (edge_order + 1) elements are required.",
     "output_type": "error",
     "traceback": [
      "\u001b[0;31m---------------------------------------------------------------------------\u001b[0m",
      "\u001b[0;31mValueError\u001b[0m                                Traceback (most recent call last)",
      "\u001b[1;32m/windows/Users/fanzh/Desktop/zhuyifan/Stanford/Activities/2022/RL-Ben/code/fastai_train.ipynb Cell 8'\u001b[0m in \u001b[0;36m<cell line: 1>\u001b[0;34m()\u001b[0m\n\u001b[1;32m      <a href='vscode-notebook-cell:/windows/Users/fanzh/Desktop/zhuyifan/Stanford/Activities/2022/RL-Ben/code/fastai_train.ipynb#ch0000007?line=0'>1</a>\u001b[0m \u001b[39mwith\u001b[39;00m learn\u001b[39m.\u001b[39mno_bar():\n\u001b[0;32m----> <a href='vscode-notebook-cell:/windows/Users/fanzh/Desktop/zhuyifan/Stanford/Activities/2022/RL-Ben/code/fastai_train.ipynb#ch0000007?line=1'>2</a>\u001b[0m     suggestLr \u001b[39m=\u001b[39m learn\u001b[39m.\u001b[39;49mlr_find(start_lr\u001b[39m=\u001b[39;49m\u001b[39m1e-2\u001b[39;49m, end_lr\u001b[39m=\u001b[39;49m\u001b[39m10\u001b[39;49m, \n\u001b[1;32m      <a href='vscode-notebook-cell:/windows/Users/fanzh/Desktop/zhuyifan/Stanford/Activities/2022/RL-Ben/code/fastai_train.ipynb#ch0000007?line=2'>3</a>\u001b[0m         show_plot\u001b[39m=\u001b[39;49m\u001b[39mTrue\u001b[39;49;00m, num_it\u001b[39m=\u001b[39;49m\u001b[39m1000\u001b[39;49m, \n\u001b[1;32m      <a href='vscode-notebook-cell:/windows/Users/fanzh/Desktop/zhuyifan/Stanford/Activities/2022/RL-Ben/code/fastai_train.ipynb#ch0000007?line=3'>4</a>\u001b[0m         suggest_funcs\u001b[39m=\u001b[39;49m[slide, valley, steep],\n\u001b[1;32m      <a href='vscode-notebook-cell:/windows/Users/fanzh/Desktop/zhuyifan/Stanford/Activities/2022/RL-Ben/code/fastai_train.ipynb#ch0000007?line=4'>5</a>\u001b[0m     )\n",
      "File \u001b[0;32m~/.conda/envs/rl/lib/python3.9/site-packages/fastai/callback/schedule.py:300\u001b[0m, in \u001b[0;36mlr_find\u001b[0;34m(self, start_lr, end_lr, num_it, stop_div, show_plot, suggest_funcs)\u001b[0m\n\u001b[1;32m    <a href='file:///home/yifan/.conda/envs/rl/lib/python3.9/site-packages/fastai/callback/schedule.py?line=297'>298</a>\u001b[0m \u001b[39mfor\u001b[39;00m func \u001b[39min\u001b[39;00m tuplify(suggest_funcs):\n\u001b[1;32m    <a href='file:///home/yifan/.conda/envs/rl/lib/python3.9/site-packages/fastai/callback/schedule.py?line=298'>299</a>\u001b[0m     nms\u001b[39m.\u001b[39mappend(func\u001b[39m.\u001b[39m\u001b[39m__name__\u001b[39m \u001b[39mif\u001b[39;00m \u001b[39mnot\u001b[39;00m \u001b[39misinstance\u001b[39m(func, partial) \u001b[39melse\u001b[39;00m func\u001b[39m.\u001b[39mfunc\u001b[39m.\u001b[39m\u001b[39m__name__\u001b[39m) \u001b[39m# deal with partials\u001b[39;00m\n\u001b[0;32m--> <a href='file:///home/yifan/.conda/envs/rl/lib/python3.9/site-packages/fastai/callback/schedule.py?line=299'>300</a>\u001b[0m     _suggestions\u001b[39m.\u001b[39mappend(func(lrs, losses, num_it))\n\u001b[1;32m    <a href='file:///home/yifan/.conda/envs/rl/lib/python3.9/site-packages/fastai/callback/schedule.py?line=301'>302</a>\u001b[0m SuggestedLRs \u001b[39m=\u001b[39m collections\u001b[39m.\u001b[39mnamedtuple(\u001b[39m'\u001b[39m\u001b[39mSuggestedLRs\u001b[39m\u001b[39m'\u001b[39m, nms)\n\u001b[1;32m    <a href='file:///home/yifan/.conda/envs/rl/lib/python3.9/site-packages/fastai/callback/schedule.py?line=302'>303</a>\u001b[0m lrs, pnts \u001b[39m=\u001b[39m [], []\n",
      "File \u001b[0;32m~/.conda/envs/rl/lib/python3.9/site-packages/fastai/callback/schedule.py:233\u001b[0m, in \u001b[0;36mslide\u001b[0;34m(lrs, losses, num_it, lr_diff, thresh, adjust_value)\u001b[0m\n\u001b[1;32m    <a href='file:///home/yifan/.conda/envs/rl/lib/python3.9/site-packages/fastai/callback/schedule.py?line=230'>231</a>\u001b[0m \u001b[39m\"\u001b[39m\u001b[39mSuggests a learning rate following an interval slide rule and returns its index\u001b[39m\u001b[39m\"\u001b[39m\n\u001b[1;32m    <a href='file:///home/yifan/.conda/envs/rl/lib/python3.9/site-packages/fastai/callback/schedule.py?line=231'>232</a>\u001b[0m losses \u001b[39m=\u001b[39m to_np(losses)\n\u001b[0;32m--> <a href='file:///home/yifan/.conda/envs/rl/lib/python3.9/site-packages/fastai/callback/schedule.py?line=232'>233</a>\u001b[0m loss_grad \u001b[39m=\u001b[39m np\u001b[39m.\u001b[39;49mgradient(losses)\n\u001b[1;32m    <a href='file:///home/yifan/.conda/envs/rl/lib/python3.9/site-packages/fastai/callback/schedule.py?line=234'>235</a>\u001b[0m r_idx \u001b[39m=\u001b[39m \u001b[39m-\u001b[39m\u001b[39m1\u001b[39m\n\u001b[1;32m    <a href='file:///home/yifan/.conda/envs/rl/lib/python3.9/site-packages/fastai/callback/schedule.py?line=235'>236</a>\u001b[0m l_idx \u001b[39m=\u001b[39m r_idx \u001b[39m-\u001b[39m lr_diff\n",
      "File \u001b[0;32m<__array_function__ internals>:5\u001b[0m, in \u001b[0;36mgradient\u001b[0;34m(*args, **kwargs)\u001b[0m\n",
      "File \u001b[0;32m~/.conda/envs/rl/lib/python3.9/site-packages/numpy/lib/function_base.py:1064\u001b[0m, in \u001b[0;36mgradient\u001b[0;34m(f, axis, edge_order, *varargs)\u001b[0m\n\u001b[1;32m   <a href='file:///home/yifan/.conda/envs/rl/lib/python3.9/site-packages/numpy/lib/function_base.py?line=1061'>1062</a>\u001b[0m \u001b[39mfor\u001b[39;00m axis, ax_dx \u001b[39min\u001b[39;00m \u001b[39mzip\u001b[39m(axes, dx):\n\u001b[1;32m   <a href='file:///home/yifan/.conda/envs/rl/lib/python3.9/site-packages/numpy/lib/function_base.py?line=1062'>1063</a>\u001b[0m     \u001b[39mif\u001b[39;00m f\u001b[39m.\u001b[39mshape[axis] \u001b[39m<\u001b[39m edge_order \u001b[39m+\u001b[39m \u001b[39m1\u001b[39m:\n\u001b[0;32m-> <a href='file:///home/yifan/.conda/envs/rl/lib/python3.9/site-packages/numpy/lib/function_base.py?line=1063'>1064</a>\u001b[0m         \u001b[39mraise\u001b[39;00m \u001b[39mValueError\u001b[39;00m(\n\u001b[1;32m   <a href='file:///home/yifan/.conda/envs/rl/lib/python3.9/site-packages/numpy/lib/function_base.py?line=1064'>1065</a>\u001b[0m             \u001b[39m\"\u001b[39m\u001b[39mShape of array too small to calculate a numerical gradient, \u001b[39m\u001b[39m\"\u001b[39m\n\u001b[1;32m   <a href='file:///home/yifan/.conda/envs/rl/lib/python3.9/site-packages/numpy/lib/function_base.py?line=1065'>1066</a>\u001b[0m             \u001b[39m\"\u001b[39m\u001b[39mat least (edge_order + 1) elements are required.\u001b[39m\u001b[39m\"\u001b[39m)\n\u001b[1;32m   <a href='file:///home/yifan/.conda/envs/rl/lib/python3.9/site-packages/numpy/lib/function_base.py?line=1066'>1067</a>\u001b[0m     \u001b[39m# result allocation\u001b[39;00m\n\u001b[1;32m   <a href='file:///home/yifan/.conda/envs/rl/lib/python3.9/site-packages/numpy/lib/function_base.py?line=1067'>1068</a>\u001b[0m     out \u001b[39m=\u001b[39m np\u001b[39m.\u001b[39mempty_like(f, dtype\u001b[39m=\u001b[39motype)\n",
      "\u001b[0;31mValueError\u001b[0m: Shape of array too small to calculate a numerical gradient, at least (edge_order + 1) elements are required."
     ]
    }
   ],
   "source": [
    "with learn.no_bar():\n",
    "    suggestLr = learn.lr_find(start_lr=1e-2, end_lr=10, \n",
    "        show_plot=True, num_it=1000, \n",
    "        suggest_funcs=[slide, valley, steep],\n",
    "    ) "
   ]
  },
  {
   "cell_type": "code",
   "execution_count": 224,
   "metadata": {},
   "outputs": [
    {
     "data": {
      "text/plain": [
       "0.001096478197723627"
      ]
     },
     "execution_count": 224,
     "metadata": {},
     "output_type": "execute_result"
    }
   ],
   "source": [
    "suggestLr.valley"
   ]
  },
  {
   "cell_type": "code",
   "execution_count": null,
   "metadata": {},
   "outputs": [],
   "source": []
  }
 ],
 "metadata": {
  "interpreter": {
   "hash": "381d4131ad07596e9720955678587090e535b4a843f544edaede8100ef2767e0"
  },
  "kernelspec": {
   "display_name": "Python 3.9.7 ('rl')",
   "language": "python",
   "name": "python3"
  },
  "language_info": {
   "codemirror_mode": {
    "name": "ipython",
    "version": 3
   },
   "file_extension": ".py",
   "mimetype": "text/x-python",
   "name": "python",
   "nbconvert_exporter": "python",
   "pygments_lexer": "ipython3",
   "version": "3.9.7"
  },
  "orig_nbformat": 4
 },
 "nbformat": 4,
 "nbformat_minor": 2
}
