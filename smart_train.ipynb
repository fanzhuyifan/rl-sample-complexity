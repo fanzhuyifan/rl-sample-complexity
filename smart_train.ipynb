{
 "cells": [
  {
   "cell_type": "code",
   "execution_count": 1,
   "metadata": {},
   "outputs": [],
   "source": [
    "%load_ext autoreload\n",
    "%autoreload 2"
   ]
  },
  {
   "cell_type": "code",
   "execution_count": 2,
   "metadata": {},
   "outputs": [],
   "source": [
    "import numpy as np\n",
    "import pandas as pd\n",
    "import torch\n",
    "import torch.nn as nn\n",
    "import torch.nn.functional as F\n",
    "from torch.utils.data import TensorDataset, DataLoader\n",
    "import matplotlib\n",
    "import matplotlib.pyplot as plt\n",
    "\n",
    "import generate as generate\n",
    "from single_layer import *\n",
    "from smart_train import *"
   ]
  },
  {
   "cell_type": "code",
   "execution_count": 28,
   "metadata": {},
   "outputs": [],
   "source": [
    "# Constants\n",
    "num = 1\n",
    "N_test = 102400\n",
    "noise = 0.1"
   ]
  },
  {
   "cell_type": "code",
   "execution_count": 31,
   "metadata": {},
   "outputs": [
    {
     "name": "stdout",
     "output_type": "stream",
     "text": [
      "(1, 256, 8) (1, 256)\n",
      "0.17094281245960552\n",
      "0.5315332094199331\n"
     ]
    }
   ],
   "source": [
    "T = 256\n",
    "M = 1\n",
    "d = 8\n",
    "(thetan, an, bn) = generate.generate_single_layer_v2(M, d, num)\n",
    "\n",
    "(X, Y_noiseless) = generate.generate_single_data_v2(T, an, bn, thetan)\n",
    "Y = generate.add_noise(Y_noiseless, noise)\n",
    "input = X[0]\n",
    "print(X.shape, Y.shape)\n",
    "print(np.mean(Y))\n",
    "print(np.std(Y))"
   ]
  },
  {
   "cell_type": "code",
   "execution_count": 38,
   "metadata": {},
   "outputs": [
    {
     "name": "stdout",
     "output_type": "stream",
     "text": [
      "2 0.03135613 0.014004566241055727\n",
      "32 0.08356825 0.03037984576076269\n",
      "2 0.034203123 0.010593470884487033\n",
      "5 0.056833632 0.008512852247804403\n",
      "2 0.035558257 0.012542514130473137\n",
      "2 0.070331246 0.0691053681075573\n",
      "2 0.038835146 0.015106091275811195\n",
      "(1.0, array(0.03420312, dtype=float32), 12)\n",
      "best_loss: 0.03135612979531288, model: MultiLayer(\n",
      "  (fcs): ModuleList(\n",
      "    (0): Linear(in_features=8, out_features=2, bias=True)\n",
      "    (1): Linear(in_features=2, out_features=2, bias=True)\n",
      "    (2): Linear(in_features=2, out_features=2, bias=True)\n",
      "    (3): Linear(in_features=2, out_features=1, bias=True)\n",
      "  )\n",
      "  (dropout): Dropout(p=0, inplace=False)\n",
      "  (act): LeakyReLU(negative_slope=0.01)\n",
      "), best_hidden_dim: 2, epoch_number: 217, fixed_params: {'val_ratio': 0.2, 'lr': 0.002, 'weight_decay': 0.0, 'batchNorm': False, 'dropout': 0, 'batch_size': 64, 'patience': 20, 'epochs': 1000, 'verbose': False}\n",
      "0.7249050826163702\n"
     ]
    }
   ],
   "source": [
    "hyperParamOpt = hyper_param_search(\n",
    "    X[0], Y[0], (2, 2 * np.sqrt(T)), maxiter=100,\n",
    "    val_ratio=0.2, \n",
    "    lr=0.002, \n",
    "    weight_decay=0.0000,\n",
    "    batchNorm=False,\n",
    "    dropout=0,\n",
    "    batch_size=64,\n",
    "    patience=20, \n",
    "    epochs=1000,\n",
    "    verbose=False,\n",
    ")\n",
    "(X_test, Y_test) = generate.generate_single_data_v2(N_test, an, bn, thetan)\n",
    "predicted = hyperParamOpt.model(torch.Tensor(X_test[0])).detach().numpy()\n",
    "kl_divergence = generate.kl_divergence(predicted.reshape(-1), Y_test.reshape(-1), noise)\n",
    "print(kl_divergence)"
   ]
  },
  {
   "cell_type": "code",
   "execution_count": null,
   "metadata": {},
   "outputs": [],
   "source": []
  },
  {
   "cell_type": "code",
   "execution_count": null,
   "metadata": {},
   "outputs": [],
   "source": []
  }
 ],
 "metadata": {
  "interpreter": {
   "hash": "381d4131ad07596e9720955678587090e535b4a843f544edaede8100ef2767e0"
  },
  "kernelspec": {
   "display_name": "Python 3.9.7 ('rl')",
   "language": "python",
   "name": "python3"
  },
  "language_info": {
   "codemirror_mode": {
    "name": "ipython",
    "version": 3
   },
   "file_extension": ".py",
   "mimetype": "text/x-python",
   "name": "python",
   "nbconvert_exporter": "python",
   "pygments_lexer": "ipython3",
   "version": "3.9.7"
  },
  "orig_nbformat": 4
 },
 "nbformat": 4,
 "nbformat_minor": 2
}
