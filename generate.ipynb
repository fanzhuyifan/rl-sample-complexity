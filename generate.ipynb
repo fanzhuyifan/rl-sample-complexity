{
 "cells": [
  {
   "cell_type": "code",
   "execution_count": 1,
   "metadata": {},
   "outputs": [],
   "source": [
    "%load_ext autoreload\n",
    "%autoreload 2"
   ]
  },
  {
   "cell_type": "code",
   "execution_count": 2,
   "metadata": {},
   "outputs": [
    {
     "name": "stdout",
     "output_type": "stream",
     "text": [
      "\u001b[33m\"\"\" Generate random data-generating environments\u001b[39;49;00m\n",
      "\u001b[33m\"\"\"\u001b[39;49;00m\n",
      "\n",
      "\u001b[34mimport\u001b[39;49;00m \u001b[04m\u001b[36mtorch\u001b[39;49;00m\n",
      "\u001b[34mimport\u001b[39;49;00m \u001b[04m\u001b[36mnumpy\u001b[39;49;00m \u001b[34mas\u001b[39;49;00m \u001b[04m\u001b[36mnp\u001b[39;49;00m\n",
      "\n",
      "\u001b[34mdef\u001b[39;49;00m \u001b[32mgenerate_activations\u001b[39;49;00m(\n",
      "    d, N,\n",
      "):\n",
      "    \u001b[33m\"\"\" Generate activation units from R^d to R of the form \u001b[39;49;00m\n",
      "\u001b[33m    \\phi(u)=sign(a^T u + b), \u001b[39;49;00m\n",
      "\u001b[33m    where a is in R^d and b is in R\u001b[39;49;00m\n",
      "\u001b[33m    :param d: dimension of input\u001b[39;49;00m\n",
      "\u001b[33m    :param N: number of activation units to generate\u001b[39;49;00m\n",
      "\u001b[33m    :return: (an, bn). an has shape (N, d), and bn has shape (N).\u001b[39;49;00m\n",
      "\u001b[33m    \"\"\"\u001b[39;49;00m\n",
      "    an = np.random.normal(\u001b[34m0\u001b[39;49;00m, \u001b[34m1\u001b[39;49;00m, size=(N, d))\n",
      "    bn = np.random.normal(\u001b[34m0\u001b[39;49;00m, \u001b[34m1\u001b[39;49;00m, size=(N))\n",
      "    \u001b[34mreturn\u001b[39;49;00m (an, bn)\n",
      "\n",
      "\u001b[34mdef\u001b[39;49;00m \u001b[32mgenerate_single_layer\u001b[39;49;00m(\n",
      "    N, M, d, num, an, bn\n",
      "):\n",
      "    \u001b[33m\"\"\" Generates random function g from R^d to R.\u001b[39;49;00m\n",
      "\u001b[33m    Each g is characterized by \u001b[39;49;00m\n",
      "\u001b[33m        M indices i_1, ..., i_M\u001b[39;49;00m\n",
      "\u001b[33m        M thetas in R; theta_1,...,theta_M;\u001b[39;49;00m\n",
      "\u001b[33m    such that g(u)=\\sum_{j=1}^M\\theta_j sign(a_{i_j}^T u + b_{i_j}),\u001b[39;49;00m\n",
      "\u001b[33m    where the {a}s and {b}s are generated according to generate_activations\u001b[39;49;00m\n",
      "\u001b[33m\u001b[39;49;00m\n",
      "\u001b[33m    :param N: number of activation units to use\u001b[39;49;00m\n",
      "\u001b[33m    :param M: the sparsity\u001b[39;49;00m\n",
      "\u001b[33m    :param d: the dimension of the input\u001b[39;49;00m\n",
      "\u001b[33m    :param num: number of gs to generate\u001b[39;49;00m\n",
      "\u001b[33m    :param an: shape (N, d)\u001b[39;49;00m\n",
      "\u001b[33m    :param bn: shape (N)\u001b[39;49;00m\n",
      "\u001b[33m    :return: (In, thetan), where In has shape (num, M), and thetan has shape (num)\u001b[39;49;00m\n",
      "\u001b[33m    \"\"\"\u001b[39;49;00m\n",
      "    In = np.array([np.random.choice(N, M, replace=\u001b[34mFalse\u001b[39;49;00m) \u001b[34mfor\u001b[39;49;00m _ \u001b[35min\u001b[39;49;00m \u001b[36mrange\u001b[39;49;00m(num)])\n",
      "    thetan = np.random.normal(\u001b[34m0\u001b[39;49;00m, np.sqrt(\u001b[34m1\u001b[39;49;00m / M), (num))\n",
      "    \u001b[34mreturn\u001b[39;49;00m (In, thetan)\n",
      "\n",
      "\u001b[34mdef\u001b[39;49;00m \u001b[32mgenerate_single_data\u001b[39;49;00m(\n",
      "    T, an, bn, In, thetan,\n",
      "):\n",
      "    \u001b[33m\"\"\" Generate data of length T according to the single layer generation process g specified by the parameters\u001b[39;49;00m\n",
      "\u001b[33m    :param an: has shape (N, d)\u001b[39;49;00m\n",
      "\u001b[33m    :param bn: has shape (N)\u001b[39;49;00m\n",
      "\u001b[33m    :param In: shape (num, M)\u001b[39;49;00m\n",
      "\u001b[33m    :param thetan: shape (num)\u001b[39;49;00m\n",
      "\u001b[33m    :param T: number of data to generate for each g\u001b[39;49;00m\n",
      "\u001b[33m    :return: (X, Y), where X has shape (num, T, d), and Y has shape (num, T).\u001b[39;49;00m\n",
      "\u001b[33m    X has standard Gaussian distribution, and the corresponding Y=g(X)\u001b[39;49;00m\n",
      "\u001b[33m    \"\"\"\u001b[39;49;00m\n",
      "    (N, d) = an.shape\n",
      "    (num, M) = In.shape\n",
      "    \u001b[37m# X: (num, T, d)\u001b[39;49;00m\n",
      "    X = np.random.normal(\u001b[34m0\u001b[39;49;00m, \u001b[34m1\u001b[39;49;00m, (num, T, d))\n",
      "    \u001b[37m# an[In, :]: (num, M, d)\u001b[39;49;00m\n",
      "    \u001b[37m# temp: (num, T, M); a^T X\u001b[39;49;00m\n",
      "    temp = (an[In, :].reshape(num, \u001b[34m1\u001b[39;49;00m, M, \u001b[34m1\u001b[39;49;00m, d) @ X.reshape(num, T, \u001b[34m1\u001b[39;49;00m, d, \u001b[34m1\u001b[39;49;00m)).reshape(num, T, M)\n",
      "    \u001b[37m# bn[In]: (num, M)\u001b[39;49;00m\n",
      "    \u001b[37m# acts: (num, T, M)\u001b[39;49;00m\n",
      "    \u001b[37m# acts = np.sign(temp + bn.reshape(num, 1, M))\u001b[39;49;00m\n",
      "    \u001b[37m# print(acts.shape)\u001b[39;49;00m\n",
      "    Y = \u001b[34mNone\u001b[39;49;00m\n",
      "    \u001b[34mreturn\u001b[39;49;00m (X, Y)\n"
     ]
    }
   ],
   "source": [
    "!pygmentize generate.py"
   ]
  },
  {
   "cell_type": "code",
   "execution_count": 3,
   "metadata": {},
   "outputs": [],
   "source": [
    "import numpy as np\n",
    "import generate as generate"
   ]
  },
  {
   "cell_type": "code",
   "execution_count": 12,
   "metadata": {},
   "outputs": [],
   "source": [
    "# Constants\n",
    "d = 3\n",
    "N = int(np.exp(d))\n",
    "M = d + 1\n",
    "num = 2\n",
    "T = 5"
   ]
  },
  {
   "cell_type": "code",
   "execution_count": 14,
   "metadata": {},
   "outputs": [
    {
     "name": "stdout",
     "output_type": "stream",
     "text": [
      "(2, 5)\n"
     ]
    }
   ],
   "source": [
    "(an, bn) = generate.generate_activations(d, N)\n",
    "(In, thetan) = generate.generate_single_layer(N, M, d, num, an, bn)\n",
    "(X, Y) = generate.generate_single_data(T, an, bn, In, thetan)"
   ]
  },
  {
   "cell_type": "code",
   "execution_count": 6,
   "metadata": {},
   "outputs": [
    {
     "data": {
      "text/plain": [
       "(array([[[-1.45456361, -0.53108843, -0.01476473],\n",
       "         [ 0.21229163, -1.09762143, -0.09098222],\n",
       "         [ 1.16729161,  0.55504518,  0.03854018],\n",
       "         [-0.09485265,  0.55707683, -1.22951404],\n",
       "         [-0.32631734, -0.86091754, -0.25959699]],\n",
       " \n",
       "        [[-0.53294173,  0.49823729,  0.77359393],\n",
       "         [-0.87625792,  0.12809871, -0.04403795],\n",
       "         [-0.44698488, -0.15314645,  0.42755447],\n",
       "         [-0.16188259,  1.14302987,  0.64263697],\n",
       "         [-0.38837488,  0.38062014, -1.54175174]]]),\n",
       " None)"
      ]
     },
     "execution_count": 6,
     "metadata": {},
     "output_type": "execute_result"
    }
   ],
   "source": [
    "X, Y"
   ]
  },
  {
   "cell_type": "code",
   "execution_count": null,
   "metadata": {},
   "outputs": [],
   "source": []
  }
 ],
 "metadata": {
  "interpreter": {
   "hash": "381d4131ad07596e9720955678587090e535b4a843f544edaede8100ef2767e0"
  },
  "kernelspec": {
   "display_name": "Python 3.10.0 64-bit ('rl': conda)",
   "language": "python",
   "name": "python3"
  },
  "language_info": {
   "codemirror_mode": {
    "name": "ipython",
    "version": 3
   },
   "file_extension": ".py",
   "mimetype": "text/x-python",
   "name": "python",
   "nbconvert_exporter": "python",
   "pygments_lexer": "ipython3",
   "version": "3.10.0"
  },
  "orig_nbformat": 4
 },
 "nbformat": 4,
 "nbformat_minor": 2
}
